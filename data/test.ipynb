{
 "cells": [
  {
   "cell_type": "code",
   "execution_count": null,
   "id": "8062246a",
   "metadata": {},
   "outputs": [],
   "source": [
    "import pandas as pd\n",
    "df = pd.read_csv(\"/Users/annachau/Documents/USC/EE541/final_project/541-project/process_data/major_data.csv\")"
   ]
  },
  {
   "cell_type": "code",
   "execution_count": null,
   "id": "6dc0ec64",
   "metadata": {},
   "outputs": [
    {
     "data": {
      "text/html": [
       "<div>\n",
       "<style scoped>\n",
       "    .dataframe tbody tr th:only-of-type {\n",
       "        vertical-align: middle;\n",
       "    }\n",
       "\n",
       "    .dataframe tbody tr th {\n",
       "        vertical-align: top;\n",
       "    }\n",
       "\n",
       "    .dataframe thead th {\n",
       "        text-align: right;\n",
       "    }\n",
       "</style>\n",
       "<table border=\"1\" class=\"dataframe\">\n",
       "  <thead>\n",
       "    <tr style=\"text-align: right;\">\n",
       "      <th></th>\n",
       "      <th>file_name</th>\n",
       "      <th>label</th>\n",
       "      <th>size_bytes</th>\n",
       "      <th>duration_sec</th>\n",
       "      <th>sample_rate_Hz</th>\n",
       "      <th>channels</th>\n",
       "      <th>bit_depth</th>\n",
       "    </tr>\n",
       "  </thead>\n",
       "  <tbody>\n",
       "    <tr>\n",
       "      <th>0</th>\n",
       "      <td>Major_500.wav</td>\n",
       "      <td>Major</td>\n",
       "      <td>194084</td>\n",
       "      <td>2.20</td>\n",
       "      <td>44100</td>\n",
       "      <td>1</td>\n",
       "      <td>16</td>\n",
       "    </tr>\n",
       "    <tr>\n",
       "      <th>1</th>\n",
       "      <td>Major_266.wav</td>\n",
       "      <td>Major</td>\n",
       "      <td>198494</td>\n",
       "      <td>2.25</td>\n",
       "      <td>44100</td>\n",
       "      <td>1</td>\n",
       "      <td>16</td>\n",
       "    </tr>\n",
       "    <tr>\n",
       "      <th>2</th>\n",
       "      <td>Major_272.wav</td>\n",
       "      <td>Major</td>\n",
       "      <td>198494</td>\n",
       "      <td>2.25</td>\n",
       "      <td>44100</td>\n",
       "      <td>1</td>\n",
       "      <td>16</td>\n",
       "    </tr>\n",
       "    <tr>\n",
       "      <th>3</th>\n",
       "      <td>Major_299.wav</td>\n",
       "      <td>Major</td>\n",
       "      <td>198494</td>\n",
       "      <td>2.25</td>\n",
       "      <td>44100</td>\n",
       "      <td>1</td>\n",
       "      <td>16</td>\n",
       "    </tr>\n",
       "    <tr>\n",
       "      <th>4</th>\n",
       "      <td>Major_474.wav</td>\n",
       "      <td>Major</td>\n",
       "      <td>198494</td>\n",
       "      <td>2.25</td>\n",
       "      <td>44100</td>\n",
       "      <td>1</td>\n",
       "      <td>16</td>\n",
       "    </tr>\n",
       "  </tbody>\n",
       "</table>\n",
       "</div>"
      ],
      "text/plain": [
       "       file_name  label  size_bytes  duration_sec  sample_rate_Hz  channels  \\\n",
       "0  Major_500.wav  Major      194084          2.20           44100         1   \n",
       "1  Major_266.wav  Major      198494          2.25           44100         1   \n",
       "2  Major_272.wav  Major      198494          2.25           44100         1   \n",
       "3  Major_299.wav  Major      198494          2.25           44100         1   \n",
       "4  Major_474.wav  Major      198494          2.25           44100         1   \n",
       "\n",
       "   bit_depth  \n",
       "0         16  \n",
       "1         16  \n",
       "2         16  \n",
       "3         16  \n",
       "4         16  "
      ]
     },
     "execution_count": 2,
     "metadata": {},
     "output_type": "execute_result"
    }
   ],
   "source": [
    "df.head()"
   ]
  },
  {
   "cell_type": "code",
   "execution_count": null,
   "id": "5f37ff88",
   "metadata": {},
   "outputs": [],
   "source": []
  }
 ],
 "metadata": {
  "kernelspec": {
   "display_name": "ee541_work",
   "language": "python",
   "name": "python3"
  },
  "language_info": {
   "codemirror_mode": {
    "name": "ipython",
    "version": 3
   },
   "file_extension": ".py",
   "mimetype": "text/x-python",
   "name": "python",
   "nbconvert_exporter": "python",
   "pygments_lexer": "ipython3",
   "version": "3.11.11"
  }
 },
 "nbformat": 4,
 "nbformat_minor": 5
}
